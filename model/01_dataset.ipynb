{
 "cells": [
  {
   "cell_type": "code",
   "execution_count": 2,
   "metadata": {},
   "outputs": [],
   "source": [
    "import pandas as pd\n",
    "import numpy as np"
   ]
  },
  {
   "cell_type": "code",
   "execution_count": 3,
   "metadata": {},
   "outputs": [],
   "source": [
    "df = pd.read_csv('dataset/ham10000_metadata_2024-05-05.csv')"
   ]
  },
  {
   "cell_type": "code",
   "execution_count": 4,
   "metadata": {},
   "outputs": [
    {
     "data": {
      "text/plain": [
       "(11720, 13)"
      ]
     },
     "execution_count": 4,
     "metadata": {},
     "output_type": "execute_result"
    }
   ],
   "source": [
    "df.shape"
   ]
  },
  {
   "cell_type": "code",
   "execution_count": 5,
   "metadata": {},
   "outputs": [
    {
     "data": {
      "text/plain": [
       "['isic_id',\n",
       " 'attribution',\n",
       " 'copyright_license',\n",
       " 'age_approx',\n",
       " 'anatom_site_general',\n",
       " 'benign_malignant',\n",
       " 'concomitant_biopsy',\n",
       " 'diagnosis',\n",
       " 'diagnosis_confirm_type',\n",
       " 'image_type',\n",
       " 'lesion_id',\n",
       " 'melanocytic',\n",
       " 'sex']"
      ]
     },
     "execution_count": 5,
     "metadata": {},
     "output_type": "execute_result"
    }
   ],
   "source": [
    "df.columns.to_list()"
   ]
  },
  {
   "cell_type": "code",
   "execution_count": 6,
   "metadata": {},
   "outputs": [
    {
     "data": {
      "text/html": [
       "<div>\n",
       "<style scoped>\n",
       "    .dataframe tbody tr th:only-of-type {\n",
       "        vertical-align: middle;\n",
       "    }\n",
       "\n",
       "    .dataframe tbody tr th {\n",
       "        vertical-align: top;\n",
       "    }\n",
       "\n",
       "    .dataframe thead th {\n",
       "        text-align: right;\n",
       "    }\n",
       "</style>\n",
       "<table border=\"1\" class=\"dataframe\">\n",
       "  <thead>\n",
       "    <tr style=\"text-align: right;\">\n",
       "      <th></th>\n",
       "      <th>isic_id</th>\n",
       "      <th>attribution</th>\n",
       "      <th>copyright_license</th>\n",
       "      <th>age_approx</th>\n",
       "      <th>anatom_site_general</th>\n",
       "      <th>benign_malignant</th>\n",
       "      <th>concomitant_biopsy</th>\n",
       "      <th>diagnosis</th>\n",
       "      <th>diagnosis_confirm_type</th>\n",
       "      <th>image_type</th>\n",
       "      <th>lesion_id</th>\n",
       "      <th>melanocytic</th>\n",
       "      <th>sex</th>\n",
       "    </tr>\n",
       "  </thead>\n",
       "  <tbody>\n",
       "    <tr>\n",
       "      <th>0</th>\n",
       "      <td>ISIC_0024306</td>\n",
       "      <td>ViDIR Group, Department of Dermatology, Medica...</td>\n",
       "      <td>CC-BY-NC</td>\n",
       "      <td>45.0</td>\n",
       "      <td>NaN</td>\n",
       "      <td>benign</td>\n",
       "      <td>False</td>\n",
       "      <td>nevus</td>\n",
       "      <td>serial imaging showing no change</td>\n",
       "      <td>dermoscopic</td>\n",
       "      <td>IL_7252831</td>\n",
       "      <td>True</td>\n",
       "      <td>male</td>\n",
       "    </tr>\n",
       "    <tr>\n",
       "      <th>1</th>\n",
       "      <td>ISIC_0024307</td>\n",
       "      <td>ViDIR Group, Department of Dermatology, Medica...</td>\n",
       "      <td>CC-BY-NC</td>\n",
       "      <td>50.0</td>\n",
       "      <td>lower extremity</td>\n",
       "      <td>benign</td>\n",
       "      <td>False</td>\n",
       "      <td>nevus</td>\n",
       "      <td>serial imaging showing no change</td>\n",
       "      <td>dermoscopic</td>\n",
       "      <td>IL_6125741</td>\n",
       "      <td>True</td>\n",
       "      <td>male</td>\n",
       "    </tr>\n",
       "    <tr>\n",
       "      <th>2</th>\n",
       "      <td>ISIC_0024308</td>\n",
       "      <td>ViDIR Group, Department of Dermatology, Medica...</td>\n",
       "      <td>CC-BY-NC</td>\n",
       "      <td>55.0</td>\n",
       "      <td>NaN</td>\n",
       "      <td>benign</td>\n",
       "      <td>False</td>\n",
       "      <td>nevus</td>\n",
       "      <td>serial imaging showing no change</td>\n",
       "      <td>dermoscopic</td>\n",
       "      <td>IL_3692653</td>\n",
       "      <td>True</td>\n",
       "      <td>female</td>\n",
       "    </tr>\n",
       "    <tr>\n",
       "      <th>3</th>\n",
       "      <td>ISIC_0024309</td>\n",
       "      <td>ViDIR Group, Department of Dermatology, Medica...</td>\n",
       "      <td>CC-BY-NC</td>\n",
       "      <td>40.0</td>\n",
       "      <td>NaN</td>\n",
       "      <td>benign</td>\n",
       "      <td>False</td>\n",
       "      <td>nevus</td>\n",
       "      <td>serial imaging showing no change</td>\n",
       "      <td>dermoscopic</td>\n",
       "      <td>IL_0959663</td>\n",
       "      <td>True</td>\n",
       "      <td>male</td>\n",
       "    </tr>\n",
       "    <tr>\n",
       "      <th>4</th>\n",
       "      <td>ISIC_0024310</td>\n",
       "      <td>ViDIR Group, Department of Dermatology, Medica...</td>\n",
       "      <td>CC-BY-NC</td>\n",
       "      <td>60.0</td>\n",
       "      <td>anterior torso</td>\n",
       "      <td>malignant</td>\n",
       "      <td>True</td>\n",
       "      <td>melanoma</td>\n",
       "      <td>histopathology</td>\n",
       "      <td>dermoscopic</td>\n",
       "      <td>IL_8194852</td>\n",
       "      <td>True</td>\n",
       "      <td>male</td>\n",
       "    </tr>\n",
       "  </tbody>\n",
       "</table>\n",
       "</div>"
      ],
      "text/plain": [
       "        isic_id                                        attribution  \\\n",
       "0  ISIC_0024306  ViDIR Group, Department of Dermatology, Medica...   \n",
       "1  ISIC_0024307  ViDIR Group, Department of Dermatology, Medica...   \n",
       "2  ISIC_0024308  ViDIR Group, Department of Dermatology, Medica...   \n",
       "3  ISIC_0024309  ViDIR Group, Department of Dermatology, Medica...   \n",
       "4  ISIC_0024310  ViDIR Group, Department of Dermatology, Medica...   \n",
       "\n",
       "  copyright_license  age_approx anatom_site_general benign_malignant  \\\n",
       "0          CC-BY-NC        45.0                 NaN           benign   \n",
       "1          CC-BY-NC        50.0     lower extremity           benign   \n",
       "2          CC-BY-NC        55.0                 NaN           benign   \n",
       "3          CC-BY-NC        40.0                 NaN           benign   \n",
       "4          CC-BY-NC        60.0      anterior torso        malignant   \n",
       "\n",
       "   concomitant_biopsy diagnosis            diagnosis_confirm_type  \\\n",
       "0               False     nevus  serial imaging showing no change   \n",
       "1               False     nevus  serial imaging showing no change   \n",
       "2               False     nevus  serial imaging showing no change   \n",
       "3               False     nevus  serial imaging showing no change   \n",
       "4                True  melanoma                    histopathology   \n",
       "\n",
       "    image_type   lesion_id  melanocytic     sex  \n",
       "0  dermoscopic  IL_7252831         True    male  \n",
       "1  dermoscopic  IL_6125741         True    male  \n",
       "2  dermoscopic  IL_3692653         True  female  \n",
       "3  dermoscopic  IL_0959663         True    male  \n",
       "4  dermoscopic  IL_8194852         True    male  "
      ]
     },
     "execution_count": 6,
     "metadata": {},
     "output_type": "execute_result"
    }
   ],
   "source": [
    "df.head()"
   ]
  },
  {
   "cell_type": "code",
   "execution_count": 7,
   "metadata": {},
   "outputs": [
    {
     "data": {
      "text/plain": [
       "8"
      ]
     },
     "execution_count": 7,
     "metadata": {},
     "output_type": "execute_result"
    }
   ],
   "source": [
    "df.diagnosis.nunique()"
   ]
  },
  {
   "cell_type": "code",
   "execution_count": 8,
   "metadata": {},
   "outputs": [
    {
     "data": {
      "text/plain": [
       "2"
      ]
     },
     "execution_count": 8,
     "metadata": {},
     "output_type": "execute_result"
    }
   ],
   "source": [
    "df.benign_malignant.nunique()"
   ]
  },
  {
   "cell_type": "markdown",
   "metadata": {},
   "source": [
    "benign: Non-cancerous lesion\n",
    "\n",
    "malignant: Cancerous lesion"
   ]
  },
  {
   "cell_type": "code",
   "execution_count": 9,
   "metadata": {},
   "outputs": [
    {
     "data": {
      "text/plain": [
       "benign_malignant\n",
       "benign       7737\n",
       "malignant    1305\n",
       "Name: count, dtype: int64"
      ]
     },
     "execution_count": 9,
     "metadata": {},
     "output_type": "execute_result"
    }
   ],
   "source": [
    "df.benign_malignant.value_counts()"
   ]
  },
  {
   "cell_type": "code",
   "execution_count": 10,
   "metadata": {},
   "outputs": [
    {
     "data": {
      "text/plain": [
       "diagnosis\n",
       "nevus                         7737\n",
       "pigmented benign keratosis    1338\n",
       "melanoma                      1305\n",
       "basal cell carcinoma           622\n",
       "squamous cell carcinoma        229\n",
       "vascular lesion                180\n",
       "dermatofibroma                 160\n",
       "actinic keratosis              149\n",
       "Name: count, dtype: int64"
      ]
     },
     "execution_count": 10,
     "metadata": {},
     "output_type": "execute_result"
    }
   ],
   "source": [
    "df.diagnosis.value_counts()"
   ]
  },
  {
   "cell_type": "code",
   "execution_count": 11,
   "metadata": {},
   "outputs": [
    {
     "data": {
      "text/plain": [
       "8838"
      ]
     },
     "execution_count": 11,
     "metadata": {},
     "output_type": "execute_result"
    }
   ],
   "source": [
    "df.lesion_id.nunique()"
   ]
  },
  {
   "cell_type": "code",
   "execution_count": 12,
   "metadata": {},
   "outputs": [],
   "source": [
    "target_df = df[['isic_id', 'diagnosis']]"
   ]
  },
  {
   "cell_type": "code",
   "execution_count": 13,
   "metadata": {},
   "outputs": [
    {
     "data": {
      "text/html": [
       "<div>\n",
       "<style scoped>\n",
       "    .dataframe tbody tr th:only-of-type {\n",
       "        vertical-align: middle;\n",
       "    }\n",
       "\n",
       "    .dataframe tbody tr th {\n",
       "        vertical-align: top;\n",
       "    }\n",
       "\n",
       "    .dataframe thead th {\n",
       "        text-align: right;\n",
       "    }\n",
       "</style>\n",
       "<table border=\"1\" class=\"dataframe\">\n",
       "  <thead>\n",
       "    <tr style=\"text-align: right;\">\n",
       "      <th></th>\n",
       "      <th>isic_id</th>\n",
       "      <th>diagnosis</th>\n",
       "    </tr>\n",
       "  </thead>\n",
       "  <tbody>\n",
       "    <tr>\n",
       "      <th>0</th>\n",
       "      <td>ISIC_0024306</td>\n",
       "      <td>nevus</td>\n",
       "    </tr>\n",
       "    <tr>\n",
       "      <th>1</th>\n",
       "      <td>ISIC_0024307</td>\n",
       "      <td>nevus</td>\n",
       "    </tr>\n",
       "    <tr>\n",
       "      <th>2</th>\n",
       "      <td>ISIC_0024308</td>\n",
       "      <td>nevus</td>\n",
       "    </tr>\n",
       "    <tr>\n",
       "      <th>3</th>\n",
       "      <td>ISIC_0024309</td>\n",
       "      <td>nevus</td>\n",
       "    </tr>\n",
       "    <tr>\n",
       "      <th>4</th>\n",
       "      <td>ISIC_0024310</td>\n",
       "      <td>melanoma</td>\n",
       "    </tr>\n",
       "    <tr>\n",
       "      <th>...</th>\n",
       "      <td>...</td>\n",
       "      <td>...</td>\n",
       "    </tr>\n",
       "    <tr>\n",
       "      <th>11715</th>\n",
       "      <td>ISIC_0036060</td>\n",
       "      <td>pigmented benign keratosis</td>\n",
       "    </tr>\n",
       "    <tr>\n",
       "      <th>11716</th>\n",
       "      <td>ISIC_0036061</td>\n",
       "      <td>nevus</td>\n",
       "    </tr>\n",
       "    <tr>\n",
       "      <th>11717</th>\n",
       "      <td>ISIC_0036062</td>\n",
       "      <td>actinic keratosis</td>\n",
       "    </tr>\n",
       "    <tr>\n",
       "      <th>11718</th>\n",
       "      <td>ISIC_0036063</td>\n",
       "      <td>pigmented benign keratosis</td>\n",
       "    </tr>\n",
       "    <tr>\n",
       "      <th>11719</th>\n",
       "      <td>ISIC_0036064</td>\n",
       "      <td>basal cell carcinoma</td>\n",
       "    </tr>\n",
       "  </tbody>\n",
       "</table>\n",
       "<p>11720 rows × 2 columns</p>\n",
       "</div>"
      ],
      "text/plain": [
       "            isic_id                   diagnosis\n",
       "0      ISIC_0024306                       nevus\n",
       "1      ISIC_0024307                       nevus\n",
       "2      ISIC_0024308                       nevus\n",
       "3      ISIC_0024309                       nevus\n",
       "4      ISIC_0024310                    melanoma\n",
       "...             ...                         ...\n",
       "11715  ISIC_0036060  pigmented benign keratosis\n",
       "11716  ISIC_0036061                       nevus\n",
       "11717  ISIC_0036062           actinic keratosis\n",
       "11718  ISIC_0036063  pigmented benign keratosis\n",
       "11719  ISIC_0036064        basal cell carcinoma\n",
       "\n",
       "[11720 rows x 2 columns]"
      ]
     },
     "execution_count": 13,
     "metadata": {},
     "output_type": "execute_result"
    }
   ],
   "source": [
    "target_df"
   ]
  },
  {
   "cell_type": "markdown",
   "metadata": {},
   "source": [
    "# Train Test"
   ]
  },
  {
   "cell_type": "code",
   "execution_count": 14,
   "metadata": {},
   "outputs": [],
   "source": [
    "# Splitting the data into training and testing data\n",
    "from sklearn.model_selection import train_test_split\n",
    "\n",
    "train, test = train_test_split(target_df, test_size=0.2, stratify=target_df['diagnosis'], random_state=42)"
   ]
  },
  {
   "cell_type": "code",
   "execution_count": 15,
   "metadata": {},
   "outputs": [
    {
     "data": {
      "text/plain": [
       "((9376, 2), (2344, 2))"
      ]
     },
     "execution_count": 15,
     "metadata": {},
     "output_type": "execute_result"
    }
   ],
   "source": [
    "train.shape, test.shape"
   ]
  },
  {
   "cell_type": "code",
   "execution_count": 16,
   "metadata": {},
   "outputs": [],
   "source": [
    "train.to_csv('dataset/train.csv', index=False)\n",
    "test.to_csv('dataset/test.csv', index=False)"
   ]
  },
  {
   "cell_type": "code",
   "execution_count": 19,
   "metadata": {},
   "outputs": [
    {
     "name": "stderr",
     "output_type": "stream",
     "text": [
      "100%|██████████| 9376/9376 [00:13<00:00, 671.85it/s]\n"
     ]
    }
   ],
   "source": [
    "import shutil\n",
    "from tqdm import tqdm \n",
    "import os\n",
    "for img in tqdm(train['isic_id']):\n",
    "    image_class = train['diagnosis'][train['isic_id'] == img].values[0]\n",
    "    image_path = f'dataset/ISIC-images (1)/{img}.jpg'\n",
    "\n",
    "    # Create a folder with the name of the class\n",
    "    if not os.path.exists(f'dataset/train/{image_class}'):\n",
    "        os.makedirs(f'dataset/train/{image_class}')\n",
    "        \n",
    "    # Copy the image to 'dataset/train' folder\n",
    "    shutil.copy(image_path, f'dataset/train/{image_class}/')\n",
    "    \n"
   ]
  },
  {
   "cell_type": "code",
   "execution_count": 20,
   "metadata": {},
   "outputs": [
    {
     "name": "stderr",
     "output_type": "stream",
     "text": [
      "100%|██████████| 2344/2344 [00:03<00:00, 741.08it/s]\n"
     ]
    }
   ],
   "source": [
    "import shutil\n",
    "from tqdm import tqdm \n",
    "for img in tqdm(test['isic_id']):\n",
    "    image_path = f'dataset/ISIC-images (1)/{img}.jpg'\n",
    "    image_class = test['diagnosis'][test['isic_id'] == img].values[0]\n",
    "\n",
    "    # Create a folder with the name of the class\n",
    "    if not os.path.exists(f'dataset/test/{image_class}'):\n",
    "        os.makedirs(f'dataset/test/{image_class}')\n",
    "\n",
    "    # Copy the image to 'dataset/test' folder\n",
    "    shutil.copy(image_path, f'dataset/test/{image_class}/')\n",
    "    \n",
    "    \n"
   ]
  },
  {
   "cell_type": "code",
   "execution_count": null,
   "metadata": {},
   "outputs": [],
   "source": []
  }
 ],
 "metadata": {
  "kernelspec": {
   "display_name": "mirchi",
   "language": "python",
   "name": "python3"
  },
  "language_info": {
   "codemirror_mode": {
    "name": "ipython",
    "version": 3
   },
   "file_extension": ".py",
   "mimetype": "text/x-python",
   "name": "python",
   "nbconvert_exporter": "python",
   "pygments_lexer": "ipython3",
   "version": "3.10.14"
  }
 },
 "nbformat": 4,
 "nbformat_minor": 2
}
