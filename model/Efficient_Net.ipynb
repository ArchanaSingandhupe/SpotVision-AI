{
 "cells": [
  {
   "cell_type": "code",
   "execution_count": 1,
   "metadata": {},
   "outputs": [],
   "source": [
    "import glob\n",
    "import os\n",
    "import pathlib\n",
    "\n",
    "import keras\n",
    "import matplotlib.pyplot as plt\n",
    "import numpy as np\n",
    "import pandas as pd\n",
    "import PIL\n",
    "import tensorflow as tf\n",
    "from keras import Sequential\n",
    "from tensorflow.keras.layers import (\n",
    "    Conv2D,\n",
    "    Dense,\n",
    "    Dropout,\n",
    "    Flatten,\n",
    "    MaxPooling2D,\n",
    "    experimental,\n",
    ")"
   ]
  },
  {
   "cell_type": "code",
   "execution_count": 2,
   "metadata": {},
   "outputs": [
    {
     "name": "stdout",
     "output_type": "stream",
     "text": [
      "Found 9376 images belonging to 8 classes.\n",
      "Found 2344 images belonging to 8 classes.\n"
     ]
    }
   ],
   "source": [
    "import tensorflow as tf\n",
    "from tensorflow.keras.preprocessing.image import ImageDataGenerator\n",
    "from tensorflow.keras.applications import EfficientNetB0\n",
    "from tensorflow.keras import layers, models\n",
    "\n",
    "# Define image dimensions\n",
    "img_height = 180\n",
    "img_width = 180\n",
    "batch_size = 32\n",
    "\n",
    "# Define train and test directories\n",
    "train_dir = 'dataset/train'\n",
    "test_dir = 'dataset/test'\n",
    "\n",
    "# Use ImageDataGenerator for data augmentation and preprocessing\n",
    "train_datagen = ImageDataGenerator(\n",
    "    rescale=1./255,\n",
    "    rotation_range=20,\n",
    "    width_shift_range=0.2,\n",
    "    height_shift_range=0.2,\n",
    "    shear_range=0.2,\n",
    "    zoom_range=0.2,\n",
    "    horizontal_flip=True,\n",
    "    fill_mode='nearest'\n",
    ")\n",
    "\n",
    "test_datagen = ImageDataGenerator(rescale=1./255)\n",
    "\n",
    "# Create data generators\n",
    "train_generator = train_datagen.flow_from_directory(\n",
    "    train_dir,\n",
    "    target_size=(img_height, img_width),\n",
    "    batch_size=batch_size,\n",
    "    class_mode='categorical'\n",
    ")\n",
    "\n",
    "test_generator = test_datagen.flow_from_directory(\n",
    "    test_dir,\n",
    "    target_size=(img_height, img_width),\n",
    "    batch_size=batch_size,\n",
    "    class_mode='categorical'\n",
    ")\n",
    "\n"
   ]
  },
  {
   "cell_type": "code",
   "execution_count": 3,
   "metadata": {},
   "outputs": [],
   "source": [
    "base_model = EfficientNetB0(weights='imagenet', include_top=False, input_shape=(img_height, img_width, 3))\n"
   ]
  },
  {
   "cell_type": "code",
   "execution_count": 6,
   "metadata": {},
   "outputs": [
    {
     "data": {
      "text/plain": [
       "238"
      ]
     },
     "execution_count": 6,
     "metadata": {},
     "output_type": "execute_result"
    }
   ],
   "source": [
    "len(base_model.layers)"
   ]
  },
  {
   "cell_type": "code",
   "execution_count": 7,
   "metadata": {},
   "outputs": [],
   "source": [
    "\n",
    "# Load pre-trained EfficientNetB0 model\n",
    "\n",
    "# # Freeze the base model layers\n",
    "# base_model.trainable = False\n",
    "\n",
    "# Unfreeze layers from a specific index onwards\n",
    "# Here, we unfreeze starting from the 100th layer\n",
    "for layer in base_model.layers[200:]:\n",
    "    layer.trainable = True\n",
    "\n",
    "# Add custom classification layers on top of EfficientNetB0\n",
    "model = models.Sequential([\n",
    "    base_model,\n",
    "    layers.GlobalAveragePooling2D(),\n",
    "    layers.Dense(128, activation='relu'),\n",
    "    layers.Dropout(0.5),\n",
    "    layers.Dense(len(train_generator.class_indices), activation='softmax')\n",
    "])\n",
    "\n",
    "# Compile the model\n",
    "model.compile(optimizer='adam', loss='categorical_crossentropy', metrics=['accuracy'])"
   ]
  },
  {
   "cell_type": "code",
   "execution_count": 8,
   "metadata": {},
   "outputs": [
    {
     "name": "stdout",
     "output_type": "stream",
     "text": [
      "Epoch 1/10\n",
      "293/293 [==============================] - 48s 137ms/step - loss: 0.8635 - accuracy: 0.7082 - val_loss: 1.3786 - val_accuracy: 0.6601\n",
      "Epoch 2/10\n",
      "293/293 [==============================] - 39s 133ms/step - loss: 0.6889 - accuracy: 0.7635 - val_loss: 2.9026 - val_accuracy: 0.6597\n",
      "Epoch 3/10\n",
      "293/293 [==============================] - 40s 135ms/step - loss: 0.6184 - accuracy: 0.7882 - val_loss: 1.4778 - val_accuracy: 0.6601\n",
      "Epoch 4/10\n",
      "293/293 [==============================] - 38s 130ms/step - loss: 0.5742 - accuracy: 0.7937 - val_loss: 1.9051 - val_accuracy: 0.6597\n",
      "Epoch 5/10\n",
      "293/293 [==============================] - 38s 130ms/step - loss: 0.5289 - accuracy: 0.8139 - val_loss: 2.3059 - val_accuracy: 0.3253\n",
      "Epoch 6/10\n",
      "293/293 [==============================] - 38s 129ms/step - loss: 0.5121 - accuracy: 0.8178 - val_loss: 374.3952 - val_accuracy: 0.1147\n",
      "Epoch 7/10\n",
      "293/293 [==============================] - 38s 131ms/step - loss: 0.4707 - accuracy: 0.8335 - val_loss: 2.4200 - val_accuracy: 0.6618\n",
      "Epoch 8/10\n",
      "293/293 [==============================] - 38s 130ms/step - loss: 0.4500 - accuracy: 0.8430 - val_loss: 1.4053 - val_accuracy: 0.6588\n",
      "Epoch 9/10\n",
      "293/293 [==============================] - 38s 129ms/step - loss: 0.4312 - accuracy: 0.8508 - val_loss: 12.6158 - val_accuracy: 0.6605\n",
      "Epoch 10/10\n",
      "293/293 [==============================] - 41s 139ms/step - loss: 0.3978 - accuracy: 0.8623 - val_loss: 1.7846 - val_accuracy: 0.6601\n"
     ]
    }
   ],
   "source": [
    "epochs=10\n",
    "# Fine-tune the model\n",
    "history = model.fit(\n",
    "    train_generator,\n",
    "    steps_per_epoch=train_generator.samples // batch_size,\n",
    "    epochs=epochs,\n",
    "    validation_data=test_generator,\n",
    "    validation_steps=test_generator.samples // batch_size\n",
    ")\n"
   ]
  },
  {
   "cell_type": "code",
   "execution_count": 9,
   "metadata": {},
   "outputs": [],
   "source": [
    "epochs=10"
   ]
  },
  {
   "cell_type": "code",
   "execution_count": 10,
   "metadata": {},
   "outputs": [
    {
     "data": {
      "image/png": "[encoded data removed]",
      "text/plain": [
       "<Figure size 800x800 with 2 Axes>"
      ]
     },
     "metadata": {},
     "output_type": "display_data"
    }
   ],
   "source": [
    "acc = history.history[\"accuracy\"]\n",
    "val_acc = history.history[\"val_accuracy\"]\n",
    "\n",
    "loss = history.history[\"loss\"]\n",
    "val_loss = history.history[\"val_loss\"]\n",
    "\n",
    "epochs_range = range(epochs)\n",
    "\n",
    "plt.figure(figsize=(8, 8))\n",
    "plt.subplot(1, 2, 1)\n",
    "plt.plot(epochs_range, acc, label=\"Training Accuracy\")\n",
    "plt.plot(epochs_range, val_acc, label=\"Validation Accuracy\")\n",
    "plt.legend(loc=\"lower right\")\n",
    "plt.title(\"Training and Validation Accuracy\")\n",
    "\n",
    "plt.subplot(1, 2, 2)\n",
    "plt.plot(epochs_range, loss, label=\"Training Loss\")\n",
    "plt.plot(epochs_range, val_loss, label=\"Validation Loss\")\n",
    "plt.legend(loc=\"upper right\")\n",
    "plt.title(\"Training and Validation Loss\")\n",
    "plt.show()"
   ]
  },
  {
   "cell_type": "code",
   "execution_count": 11,
   "metadata": {},
   "outputs": [
    {
     "name": "stdout",
     "output_type": "stream",
     "text": [
      "Final Validation Accuracy: 0.6601027250289917\n"
     ]
    }
   ],
   "source": [
    "# Get final validation accuracy from the history object\n",
    "final_val_accuracy = history.history['val_accuracy'][-1]\n",
    "print(\"Final Validation Accuracy:\", final_val_accuracy)"
   ]
  },
  {
   "cell_type": "code",
   "execution_count": 16,
   "metadata": {},
   "outputs": [
    {
     "name": "stderr",
     "output_type": "stream",
     "text": [
      "WARNING:absl:Found untraced functions such as _jit_compiled_convolution_op, _jit_compiled_convolution_op, _jit_compiled_convolution_op, _jit_compiled_convolution_op, _jit_compiled_convolution_op while saving (showing 5 of 81). These functions will not be directly callable after loading.\n"
     ]
    },
    {
     "name": "stdout",
     "output_type": "stream",
     "text": [
      "INFO:tensorflow:Assets written to: EfficientNetB0_SavedModel\\assets\n"
     ]
    },
    {
     "name": "stderr",
     "output_type": "stream",
     "text": [
      "INFO:tensorflow:Assets written to: EfficientNetB0_SavedModel\\assets\n"
     ]
    }
   ],
   "source": [
    "tf.saved_model.save(model, \"EfficientNetB0_SavedModel\")\n"
   ]
  },
  {
   "cell_type": "code",
   "execution_count": 17,
   "metadata": {},
   "outputs": [
    {
     "name": "stdout",
     "output_type": "stream",
     "text": [
      "Downloading data from https://storage.googleapis.com/tensorflow/keras-applications/resnet/resnet50_weights_tf_dim_ordering_tf_kernels_notop.h5\n",
      "94765736/94765736 [==============================] - 9s 0us/step\n",
      "Epoch 1/10\n",
      "293/293 [==============================] - 56s 176ms/step - loss: 1.0518 - accuracy: 0.6666 - val_loss: 1.4537 - val_accuracy: 0.6601\n",
      "Epoch 2/10\n",
      "293/293 [==============================] - 51s 175ms/step - loss: 0.9561 - accuracy: 0.6827 - val_loss: 1.5656 - val_accuracy: 0.6592\n",
      "Epoch 3/10\n",
      "293/293 [==============================] - 53s 179ms/step - loss: 0.8556 - accuracy: 0.6994 - val_loss: 1.3768 - val_accuracy: 0.6597\n",
      "Epoch 4/10\n",
      "293/293 [==============================] - 50s 170ms/step - loss: 0.8321 - accuracy: 0.7137 - val_loss: 1.0112 - val_accuracy: 0.6554\n",
      "Epoch 5/10\n",
      "293/293 [==============================] - 50s 169ms/step - loss: 0.7895 - accuracy: 0.7237 - val_loss: 0.8354 - val_accuracy: 0.6978\n",
      "Epoch 6/10\n",
      "293/293 [==============================] - 50s 172ms/step - loss: 0.7583 - accuracy: 0.7337 - val_loss: 1.1878 - val_accuracy: 0.6708\n",
      "Epoch 7/10\n",
      "293/293 [==============================] - 52s 176ms/step - loss: 0.7332 - accuracy: 0.7427 - val_loss: 1.1302 - val_accuracy: 0.6725\n",
      "Epoch 8/10\n",
      "293/293 [==============================] - 51s 173ms/step - loss: 0.7309 - accuracy: 0.7438 - val_loss: 1.0464 - val_accuracy: 0.7029\n",
      "Epoch 9/10\n",
      "293/293 [==============================] - 50s 172ms/step - loss: 0.7251 - accuracy: 0.7439 - val_loss: 0.9043 - val_accuracy: 0.6969\n",
      "Epoch 10/10\n",
      "293/293 [==============================] - 50s 172ms/step - loss: 0.7200 - accuracy: 0.7474 - val_loss: 6.1201 - val_accuracy: 0.6725\n",
      "Final Accuracy: 0.7474402785301208\n",
      "Final Validation Accuracy: 0.6725171208381653\n"
     ]
    }
   ],
   "source": [
    "from tensorflow.keras.applications import ResNet50\n",
    "\n",
    "# Load pre-trained ResNet50 model\n",
    "base_model = ResNet50(weights='imagenet', include_top=False, input_shape=(img_height, img_width, 3))\n",
    "\n",
    "# Unfreeze layers from a specific index onwards\n",
    "# Here, we unfreeze starting from the 140th layer\n",
    "for layer in base_model.layers[140:]:\n",
    "    layer.trainable = True\n",
    "\n",
    "# Add custom classification layers on top of ResNet50\n",
    "model = models.Sequential([\n",
    "    base_model,\n",
    "    layers.GlobalAveragePooling2D(),\n",
    "    layers.Dense(128, activation='relu'),\n",
    "    layers.Dropout(0.5),\n",
    "    layers.Dense(len(train_generator.class_indices), activation='softmax')\n",
    "])\n",
    "\n",
    "# Compile the model\n",
    "model.compile(optimizer='adam', loss='categorical_crossentropy', metrics=['accuracy'])\n",
    "\n",
    "# Fine-tune the model\n",
    "history = model.fit(\n",
    "    train_generator,\n",
    "    steps_per_epoch=train_generator.samples // batch_size,\n",
    "    epochs=10,\n",
    "    validation_data=test_generator,\n",
    "    validation_steps=test_generator.samples // batch_size\n",
    ")\n",
    "\n",
    "# Get final accuracy from the history object\n",
    "final_accuracy = history.history['accuracy'][-1]\n",
    "print(\"Final Accuracy:\", final_accuracy)\n",
    "\n",
    "# Get final validation accuracy from the history object\n",
    "final_val_accuracy = history.history['val_accuracy'][-1]\n",
    "print(\"Final Validation Accuracy:\", final_val_accuracy)\n"
   ]
  },
  {
   "cell_type": "code",
   "execution_count": 18,
   "metadata": {},
   "outputs": [
    {
     "data": {
      "text/plain": [
       "8"
      ]
     },
     "execution_count": 18,
     "metadata": {},
     "output_type": "execute_result"
    }
   ],
   "source": [
    "len(train_generator.class_indices)"
   ]
  },
  {
   "cell_type": "code",
   "execution_count": 19,
   "metadata": {},
   "outputs": [],
   "source": [
    "model.save(\"ResNet50_Model.h5\")"
   ]
  },
  {
   "cell_type": "markdown",
   "metadata": {},
   "source": [
    "# InceptionV3"
   ]
  },
  {
   "cell_type": "code",
   "execution_count": 20,
   "metadata": {},
   "outputs": [
    {
     "name": "stdout",
     "output_type": "stream",
     "text": [
      "Downloading data from https://storage.googleapis.com/tensorflow/keras-applications/inception_v3/inception_v3_weights_tf_dim_ordering_tf_kernels_notop.h5\n",
      "87910968/87910968 [==============================] - 8s 0us/step\n",
      "Found 9376 images belonging to 8 classes.\n",
      "Found 2344 images belonging to 8 classes.\n"
     ]
    }
   ],
   "source": [
    "import tensorflow as tf\n",
    "from tensorflow.keras.applications import InceptionV3\n",
    "from tensorflow.keras.preprocessing.image import ImageDataGenerator\n",
    "\n",
    "# Define image dimensions and batch size\n",
    "img_height = 180\n",
    "img_width = 180\n",
    "batch_size = 32\n",
    "num_classes = 8\n",
    "# Load the InceptionV3 model with pre-trained weights\n",
    "base_model = InceptionV3(weights='imagenet', include_top=False, input_shape=(img_height, img_width, 3))\n",
    "\n",
    "# Fine-tune: Unfreeze some of the top layers for adaptation\n",
    "# fine_tune_at = 100\n",
    "# for layer in base_model.layers[:fine_tune_at]:\n",
    "#     layer.trainable = False\n",
    "\n",
    "for layer in base_model.layers:\n",
    "    layer.trainable = True\n",
    "\n",
    "# Add custom classification layers on top\n",
    "x = base_model.output\n",
    "x = tf.keras.layers.GlobalAveragePooling2D()(x)\n",
    "x = tf.keras.layers.Dense(128, activation='relu')(x)\n",
    "predictions = tf.keras.layers.Dense(num_classes, activation='softmax')(x)  # Assuming num_classes is the number of classes in your dataset\n",
    "\n",
    "# Create the model\n",
    "model = tf.keras.models.Model(inputs=base_model.input, outputs=predictions)\n",
    "\n",
    "# Compile the model\n",
    "model.compile(optimizer='adam', loss='categorical_crossentropy', metrics=['accuracy'])\n",
    "\n",
    "# Data augmentation and preprocessing\n",
    "train_datagen = ImageDataGenerator(\n",
    "    rescale=1./255,\n",
    "    rotation_range=20,\n",
    "    width_shift_range=0.2,\n",
    "    height_shift_range=0.2,\n",
    "    shear_range=0.2,\n",
    "    zoom_range=0.2,\n",
    "    horizontal_flip=True,\n",
    "    fill_mode='nearest'\n",
    ")\n",
    "\n",
    "test_datagen = ImageDataGenerator(rescale=1./255)\n",
    "\n",
    "# Load and prepare the data with data augmentation\n",
    "train_generator = train_datagen.flow_from_directory(\n",
    "    'dataset/train',\n",
    "    target_size=(img_height, img_width),\n",
    "    batch_size=batch_size,\n",
    "    class_mode='categorical'\n",
    ")\n",
    "\n",
    "validation_generator = test_datagen.flow_from_directory(\n",
    "    'dataset/test',\n",
    "    target_size=(img_height, img_width),\n",
    "    batch_size=batch_size,\n",
    "    class_mode='categorical'\n",
    ")\n"
   ]
  },
  {
   "cell_type": "code",
   "execution_count": 21,
   "metadata": {},
   "outputs": [
    {
     "name": "stdout",
     "output_type": "stream",
     "text": [
      "Epoch 1/30\n",
      "293/293 [==============================] - 42s 129ms/step - loss: 0.8898 - accuracy: 0.6971 - val_loss: 1.5209 - val_accuracy: 0.4730\n",
      "Epoch 2/30\n",
      "293/293 [==============================] - 38s 131ms/step - loss: 0.7693 - accuracy: 0.7270 - val_loss: 1.1075 - val_accuracy: 0.7175\n",
      "Epoch 3/30\n",
      "293/293 [==============================] - 39s 133ms/step - loss: 0.7203 - accuracy: 0.7474 - val_loss: 2.2954 - val_accuracy: 0.2038\n",
      "Epoch 4/30\n",
      "293/293 [==============================] - 39s 132ms/step - loss: 0.7010 - accuracy: 0.7495 - val_loss: 0.7861 - val_accuracy: 0.7376\n",
      "Epoch 5/30\n",
      "293/293 [==============================] - 39s 134ms/step - loss: 0.6615 - accuracy: 0.7641 - val_loss: 1.0317 - val_accuracy: 0.7153\n",
      "Epoch 6/30\n",
      "293/293 [==============================] - 40s 136ms/step - loss: 0.6478 - accuracy: 0.7660 - val_loss: 1.0416 - val_accuracy: 0.6824\n",
      "Epoch 7/30\n",
      "293/293 [==============================] - 40s 136ms/step - loss: 0.6213 - accuracy: 0.7787 - val_loss: 0.8735 - val_accuracy: 0.6768\n",
      "Epoch 8/30\n",
      "293/293 [==============================] - 40s 135ms/step - loss: 0.5933 - accuracy: 0.7879 - val_loss: 0.8351 - val_accuracy: 0.7295\n",
      "Epoch 9/30\n",
      "293/293 [==============================] - 40s 136ms/step - loss: 0.5829 - accuracy: 0.7923 - val_loss: 1.2163 - val_accuracy: 0.6250\n",
      "Epoch 10/30\n",
      "293/293 [==============================] - 39s 134ms/step - loss: 0.5559 - accuracy: 0.8046 - val_loss: 0.6970 - val_accuracy: 0.7393\n",
      "Epoch 11/30\n",
      "293/293 [==============================] - 40s 135ms/step - loss: 0.5472 - accuracy: 0.7998 - val_loss: 0.7522 - val_accuracy: 0.7564\n",
      "Epoch 12/30\n",
      "293/293 [==============================] - 39s 134ms/step - loss: 0.5306 - accuracy: 0.8103 - val_loss: 0.7619 - val_accuracy: 0.7539\n",
      "Epoch 13/30\n",
      "293/293 [==============================] - 39s 132ms/step - loss: 0.5250 - accuracy: 0.8095 - val_loss: 1.2451 - val_accuracy: 0.6991\n",
      "Epoch 14/30\n",
      "293/293 [==============================] - 40s 135ms/step - loss: 0.5079 - accuracy: 0.8144 - val_loss: 1.1033 - val_accuracy: 0.6905\n",
      "Epoch 15/30\n",
      "293/293 [==============================] - 42s 142ms/step - loss: 0.4927 - accuracy: 0.8214 - val_loss: 0.9459 - val_accuracy: 0.7389\n",
      "Epoch 16/30\n",
      "293/293 [==============================] - 41s 138ms/step - loss: 0.4817 - accuracy: 0.8271 - val_loss: 0.7673 - val_accuracy: 0.7543\n",
      "Epoch 17/30\n",
      "293/293 [==============================] - 42s 142ms/step - loss: 0.4697 - accuracy: 0.8330 - val_loss: 0.7632 - val_accuracy: 0.7423\n",
      "Epoch 18/30\n",
      "293/293 [==============================] - 42s 142ms/step - loss: 0.4499 - accuracy: 0.8326 - val_loss: 0.6886 - val_accuracy: 0.7693\n",
      "Epoch 19/30\n",
      "293/293 [==============================] - 41s 141ms/step - loss: 0.4498 - accuracy: 0.8380 - val_loss: 0.7259 - val_accuracy: 0.7791\n",
      "Epoch 20/30\n",
      "293/293 [==============================] - 42s 144ms/step - loss: 0.4408 - accuracy: 0.8399 - val_loss: 0.7868 - val_accuracy: 0.7526\n",
      "Epoch 21/30\n",
      "293/293 [==============================] - 41s 138ms/step - loss: 0.4303 - accuracy: 0.8430 - val_loss: 0.5688 - val_accuracy: 0.8069\n",
      "Epoch 22/30\n",
      "293/293 [==============================] - 43s 145ms/step - loss: 0.4117 - accuracy: 0.8497 - val_loss: 1.0034 - val_accuracy: 0.7115\n",
      "Epoch 23/30\n",
      "293/293 [==============================] - 41s 141ms/step - loss: 0.4015 - accuracy: 0.8537 - val_loss: 0.9687 - val_accuracy: 0.7436\n",
      "Epoch 24/30\n",
      "293/293 [==============================] - 42s 142ms/step - loss: 0.3967 - accuracy: 0.8555 - val_loss: 0.8480 - val_accuracy: 0.7663\n",
      "Epoch 25/30\n",
      "293/293 [==============================] - 40s 135ms/step - loss: 0.3861 - accuracy: 0.8560 - val_loss: 0.6029 - val_accuracy: 0.7907\n",
      "Epoch 26/30\n",
      "293/293 [==============================] - 41s 139ms/step - loss: 0.3904 - accuracy: 0.8587 - val_loss: 0.8576 - val_accuracy: 0.7586\n",
      "Epoch 27/30\n",
      "293/293 [==============================] - 40s 136ms/step - loss: 0.3658 - accuracy: 0.8689 - val_loss: 0.7032 - val_accuracy: 0.7753\n",
      "Epoch 28/30\n",
      "293/293 [==============================] - 40s 137ms/step - loss: 0.3503 - accuracy: 0.8730 - val_loss: 0.7445 - val_accuracy: 0.7701\n",
      "Epoch 29/30\n",
      "293/293 [==============================] - 40s 136ms/step - loss: 0.3562 - accuracy: 0.8654 - val_loss: 1.4063 - val_accuracy: 0.7474\n",
      "Epoch 30/30\n",
      "293/293 [==============================] - 40s 137ms/step - loss: 0.3506 - accuracy: 0.8715 - val_loss: 0.6924 - val_accuracy: 0.7992\n",
      "74/74 [==============================] - 3s 45ms/step - loss: 0.6910 - accuracy: 0.7995\n",
      "Validation Accuracy: 0.7994880676269531\n"
     ]
    }
   ],
   "source": [
    "# Train the model with data augmentation\n",
    "history = model.fit(\n",
    "    train_generator,\n",
    "    steps_per_epoch=train_generator.samples // batch_size,\n",
    "    epochs=30,\n",
    "    validation_data=validation_generator,\n",
    "    validation_steps=validation_generator.samples // batch_size\n",
    ")\n",
    "\n",
    "# Evaluate the model\n",
    "loss, accuracy = model.evaluate(validation_generator)\n",
    "print(\"Validation Accuracy:\", accuracy)"
   ]
  },
  {
   "cell_type": "code",
   "execution_count": 22,
   "metadata": {},
   "outputs": [],
   "source": [
    "model.save(\"InceptionV3.h5\")"
   ]
  },
  {
   "cell_type": "code",
   "execution_count": 23,
   "metadata": {},
   "outputs": [
    {
     "name": "stdout",
     "output_type": "stream",
     "text": [
      "Final Accuracy: 0.8714803457260132\n",
      "Final Validation Accuracy: 0.7992294430732727\n"
     ]
    }
   ],
   "source": [
    "# Get final accuracy from the history object\n",
    "final_accuracy = history.history['accuracy'][-1]\n",
    "print(\"Final Accuracy:\", final_accuracy)\n",
    "\n",
    "# Get final validation accuracy from the history object\n",
    "final_val_accuracy = history.history['val_accuracy'][-1]\n",
    "print(\"Final Validation Accuracy:\", final_val_accuracy)"
   ]
  }
 ],
 "metadata": {
  "kernelspec": {
   "display_name": "env",
   "language": "python",
   "name": "python3"
  },
  "language_info": {
   "codemirror_mode": {
    "name": "ipython",
    "version": 3
   },
   "file_extension": ".py",
   "mimetype": "text/x-python",
   "name": "python",
   "nbconvert_exporter": "python",
   "pygments_lexer": "ipython3",
   "version": "3.10.14"
  },
  "orig_nbformat": 4,
  "vscode": {
   "interpreter": {
    "hash": "44622bf898d20f3fc9a57c54d189541ce49c08446fc18f7c26ba3d242a23814f"
   }
  }
 },
 "nbformat": 4,
 "nbformat_minor": 2
}
