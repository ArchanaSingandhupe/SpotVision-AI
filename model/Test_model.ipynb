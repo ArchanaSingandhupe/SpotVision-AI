{
 "cells": [
  {
   "cell_type": "code",
   "execution_count": 1,
   "metadata": {},
   "outputs": [],
   "source": [
    "import tensorflow as tf\n",
    "\n",
    "# Load the saved model\n",
    "model = tf.keras.models.load_model('modelv1.h5')"
   ]
  },
  {
   "cell_type": "code",
   "execution_count": 5,
   "metadata": {},
   "outputs": [],
   "source": [
    "import cv2\n",
    "import numpy as np\n",
    "\n",
    "def preprocess_image(image_path, target_size=(28, 28)):\n",
    "    # Load and resize image\n",
    "    image = cv2.imread(image_path)\n",
    "    image = cv2.resize(image, target_size)\n",
    "    # Normalize the image\n",
    "    image = image / 255.0\n",
    "    # Expand dimensions to fit model input\n",
    "    image = np.expand_dims(image, axis=0)\n",
    "    return image\n"
   ]
  },
  {
   "cell_type": "code",
   "execution_count": 6,
   "metadata": {},
   "outputs": [
    {
     "name": "stdout",
     "output_type": "stream",
     "text": [
      "Predicted Skin Lesion Class: squamous cell carcinoma\n"
     ]
    }
   ],
   "source": [
    "# Define classes\n",
    "CLASS_LABELS = {0: 'actinic keratosis', 1: 'basal cell carcinoma', 2: 'dermatofibroma',\n",
    "                3: 'melanoma', 4: 'nevus', 5: 'pigmented benign keratosis',\n",
    "                6: 'squamous cell carcinoma', 7: 'vascular lesion'}\n",
    "\n",
    "# Preprocess image\n",
    "image_path = 'E:\\\\Study\\\\Just for fun projects\\\\Cancer Detection\\\\SpotVision-AI\\\\images\\\\Melanoma.jpg'\n",
    "image = preprocess_image(image_path)\n",
    "\n",
    "# Make prediction\n",
    "predictions = model.predict(image)\n",
    "predicted_class = np.argmax(predictions)\n",
    "\n",
    "# Output predicted class\n",
    "predicted_label = CLASS_LABELS[predicted_class]\n",
    "print(f'Predicted Skin Lesion Class: {predicted_label}')\n"
   ]
  },
  {
   "cell_type": "code",
   "execution_count": 7,
   "metadata": {},
   "outputs": [
    {
     "data": {
      "text/plain": [
       "array([[6.1247168e-10, 8.2441848e-06, 4.6115101e-06, 1.7835003e-09,\n",
       "        1.6804925e-05, 6.2082625e-05, 9.9990821e-01]], dtype=float32)"
      ]
     },
     "execution_count": 7,
     "metadata": {},
     "output_type": "execute_result"
    }
   ],
   "source": [
    "predictions"
   ]
  }
 ],
 "metadata": {
  "kernelspec": {
   "display_name": "archi",
   "language": "python",
   "name": "python3"
  },
  "language_info": {
   "codemirror_mode": {
    "name": "ipython",
    "version": 3
   },
   "file_extension": ".py",
   "mimetype": "text/x-python",
   "name": "python",
   "nbconvert_exporter": "python",
   "pygments_lexer": "ipython3",
   "version": "3.9.18"
  }
 },
 "nbformat": 4,
 "nbformat_minor": 2
}
